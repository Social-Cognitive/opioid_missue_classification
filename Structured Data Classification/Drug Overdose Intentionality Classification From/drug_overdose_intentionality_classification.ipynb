{
  "cells": [
    {
      "cell_type": "code",
      "execution_count": null,
      "metadata": {
        "colab": {
          "base_uri": "https://localhost:8080/"
        },
        "id": "VYeaUG4NQSiB",
        "outputId": "c05e74cb-648a-459a-c785-e0b126776ad2"
      },
      "outputs": [
        {
          "name": "stdout",
          "output_type": "stream",
          "text": [
            "Mounted at /content/drive\n"
          ]
        }
      ],
      "source": [
        "#Mounting to google drive\n",
        "from google.colab import drive\n",
        "drive.mount('/content/drive', force_remount=True)"
      ]
    },
    {
      "cell_type": "code",
      "execution_count": null,
      "metadata": {
        "id": "yAo-nRPPQTgY"
      },
      "outputs": [],
      "source": [
        "#Importing modules\n",
        "import numpy as np\n",
        "import sklearn\n",
        "from sklearn.metrics import confusion_matrix, matthews_corrcoef\n",
        "from sklearn.ensemble import AdaBoostClassifier\n",
        "from sklearn.ensemble import RandomForestClassifier\n",
        "from sklearn.svm import SVC\n",
        "from sklearn.linear_model import LogisticRegression\n",
        "from xgboost import XGBClassifier\n",
        "from sklearn.neighbors import KNeighborsClassifier\n",
        "from sklearn.metrics import accuracy_score"
      ]
    },
    {
      "cell_type": "code",
      "execution_count": null,
      "metadata": {
        "id": "u1dulzg5QTid"
      },
      "outputs": [],
      "source": [
        "#Loading training and testing data\n",
        "x_train = np.load('x_train.npy')\n",
        "y_train = np.load('y_train.npy')\n",
        "\n",
        "x_test = np.load('x_test.npy')\n",
        "y_test = np.load('y_test.npy')"
      ]
    },
    {
      "cell_type": "code",
      "execution_count": null,
      "metadata": {
        "id": "AVkbBfWsh-y5"
      },
      "outputs": [],
      "source": [
        "#Considering attributes with a p-value of less than 0.161\n",
        "x_train = x_train[:,-4:]\n",
        "x_train = np.delete(x_train, 2, 1)\n",
        "x_test = x_test[:,-4:]\n",
        "x_test = np.delete(x_test, 2, 1)"
      ]
    },
    {
      "cell_type": "code",
      "execution_count": null,
      "metadata": {
        "id": "3PZ9yv_DQTmV"
      },
      "outputs": [],
      "source": [
        "#defining classifiers\n",
        "adaboost_classifier = AdaBoostClassifier()\n",
        "logistic_regression = LogisticRegression(max_iter=500) #default a error dicche\n",
        "xgb_classifier = XGBClassifier()\n",
        "random_forest_classifier = RandomForestClassifier()\n",
        "svc = SVC()"
      ]
    },
    {
      "cell_type": "code",
      "execution_count": null,
      "metadata": {
        "id": "On9mk4nnQToM"
      },
      "outputs": [],
      "source": [
        "#Definiing few lists for storing performance\n",
        "train_accuracy = []\n",
        "test_accuracy = []\n",
        "\n",
        "train_mcc = [] #The Matthews correlation coefficient (MCC)\n",
        "test_mcc = []\n",
        "\n",
        "train_sensitivity = []\n",
        "test_sensitivity = []\n",
        "\n",
        "train_specificity = []\n",
        "test_specificity = []"
      ]
    },
    {
      "cell_type": "markdown",
      "metadata": {
        "id": "CQAt3niWIb8_"
      },
      "source": [
        "#AdaBoostClassifier Implementation"
      ]
    },
    {
      "cell_type": "code",
      "execution_count": null,
      "metadata": {
        "colab": {
          "base_uri": "https://localhost:8080/"
        },
        "id": "R7dfgk9zRh_W",
        "outputId": "eeec4f1e-e54b-4425-c41c-be08aa384bb4"
      },
      "outputs": [
        {
          "name": "stdout",
          "output_type": "stream",
          "text": [
            "<class 'numpy.ndarray'> <class 'numpy.ndarray'>\n",
            "(364,) (91,)\n"
          ]
        },
        {
          "name": "stderr",
          "output_type": "stream",
          "text": [
            "/usr/local/lib/python3.7/dist-packages/sklearn/utils/validation.py:993: DataConversionWarning: A column-vector y was passed when a 1d array was expected. Please change the shape of y to (n_samples, ), for example using ravel().\n",
            "  y = column_or_1d(y, warn=True)\n"
          ]
        }
      ],
      "source": [
        "###############AdaBoostClassifier#################\n",
        "adaboost_classifier.fit(x_train, y_train)#machine k train korlam\n",
        "train_pred = adaboost_classifier.predict(x_train)\n",
        "test_pred = adaboost_classifier.predict(x_test)\n",
        "\n",
        "\n",
        "print(type(train_pred), type(test_pred))\n",
        "print(train_pred.shape, test_pred.shape)\n",
        "\n",
        "        \n",
        "        \n",
        "###############ACCURACY#################\n",
        "train_accuracy.append(accuracy_score(y_train, train_pred))\n",
        "test_accuracy.append(accuracy_score(y_test, test_pred))\n",
        "\n",
        "\n",
        "###############MCC#################\n",
        "train_mcc.append(matthews_corrcoef(y_train, train_pred))\n",
        "test_mcc.append(matthews_corrcoef(y_test, test_pred))\n",
        "\n",
        "\n",
        "###############Sensitivity & Specificity#################\n",
        "tn, fp, fn, tp = confusion_matrix(y_train, train_pred).ravel()\n",
        "train_sensitivity.append(tn/(tn+fp))\n",
        "train_specificity.append(tp/(tp+fn))\n",
        "\n",
        "tn, fp, fn, tp = confusion_matrix(y_test, test_pred).ravel()\n",
        "test_sensitivity.append(tn/(tn+fp))\n",
        "test_specificity.append(tp/(tp+fn))"
      ]
    },
    {
      "cell_type": "code",
      "execution_count": null,
      "metadata": {
        "colab": {
          "base_uri": "https://localhost:8080/"
        },
        "id": "Nf32SKSyTp2Q",
        "outputId": "dc839d2b-97fb-4fc0-bafd-0803136dc8c0"
      },
      "outputs": [
        {
          "name": "stdout",
          "output_type": "stream",
          "text": [
            "Training accuracy: [0.9532967032967034]\n",
            "Testing accuracy: [0.9230769230769231]\n",
            "Training MCC: [0.9063526794954146]\n",
            "Testing MCC: [0.8469930405985125]\n",
            "Training sensitivity: [0.953125]\n",
            "Testing sensitivity: [0.95]\n",
            "Training specificity: [0.9534883720930233]\n",
            "Testing specificity: [0.9019607843137255]\n"
          ]
        }
      ],
      "source": [
        "print(\"Training accuracy:\", train_accuracy)\n",
        "print(\"Testing accuracy:\", test_accuracy)\n",
        "print(\"Training MCC:\", train_mcc)\n",
        "print(\"Testing MCC:\", test_mcc)\n",
        "print(\"Training sensitivity:\", train_sensitivity)\n",
        "print(\"Testing sensitivity:\", test_sensitivity)\n",
        "print(\"Training specificity:\", train_specificity)\n",
        "print(\"Testing specificity:\", test_specificity)"
      ]
    },
    {
      "cell_type": "code",
      "execution_count": null,
      "metadata": {
        "id": "6bt1FmZ6FF6s"
      },
      "outputs": [],
      "source": [
        "#Clearing the lists so that we can keep performance values for the next classifier\n",
        "train_accuracy.clear()\n",
        "test_accuracy.clear()\n",
        "\n",
        "train_mcc.clear()\n",
        "test_mcc.clear()\n",
        "\n",
        "train_sensitivity.clear()\n",
        "test_sensitivity.clear()\n",
        "\n",
        "train_specificity.clear()\n",
        "test_specificity.clear()"
      ]
    },
    {
      "cell_type": "markdown",
      "metadata": {
        "id": "53k00OJoIjZc"
      },
      "source": [
        "#LogisticRegressionClassifier"
      ]
    },
    {
      "cell_type": "code",
      "execution_count": null,
      "metadata": {
        "colab": {
          "base_uri": "https://localhost:8080/"
        },
        "id": "EQrX1X5AFOy7",
        "outputId": "890eb26b-3bdf-4e2e-a276-f78a1aecae95"
      },
      "outputs": [
        {
          "name": "stdout",
          "output_type": "stream",
          "text": [
            "<class 'numpy.ndarray'> <class 'numpy.ndarray'>\n",
            "(364,) (91,)\n"
          ]
        },
        {
          "name": "stderr",
          "output_type": "stream",
          "text": [
            "/usr/local/lib/python3.7/dist-packages/sklearn/utils/validation.py:993: DataConversionWarning: A column-vector y was passed when a 1d array was expected. Please change the shape of y to (n_samples, ), for example using ravel().\n",
            "  y = column_or_1d(y, warn=True)\n"
          ]
        }
      ],
      "source": [
        "###############LogisticRegression#################\n",
        "logistic_regression.fit(x_train, y_train)#machine k train korlam\n",
        "train_pred = logistic_regression.predict(x_train)\n",
        "test_pred = logistic_regression.predict(x_test)\n",
        "\n",
        "\n",
        "print(type(train_pred), type(test_pred))\n",
        "print(train_pred.shape, test_pred.shape)\n",
        "\n",
        "        \n",
        "        \n",
        "###############ACCURACY#################\n",
        "train_accuracy.append(accuracy_score(y_train, train_pred))\n",
        "test_accuracy.append(accuracy_score(y_test, test_pred))\n",
        "\n",
        "\n",
        "###############MCC#################\n",
        "train_mcc.append(matthews_corrcoef(y_train, train_pred))\n",
        "test_mcc.append(matthews_corrcoef(y_test, test_pred))\n",
        "\n",
        "\n",
        "###############Sensitivity & Specificity#################\n",
        "tn, fp, fn, tp = confusion_matrix(y_train, train_pred).ravel()\n",
        "train_sensitivity.append(tn/(tn+fp))\n",
        "train_specificity.append(tp/(tp+fn))\n",
        "\n",
        "tn, fp, fn, tp = confusion_matrix(y_test, test_pred).ravel()\n",
        "test_sensitivity.append(tn/(tn+fp))\n",
        "test_specificity.append(tp/(tp+fn))"
      ]
    },
    {
      "cell_type": "code",
      "execution_count": null,
      "metadata": {
        "colab": {
          "base_uri": "https://localhost:8080/"
        },
        "id": "-qyu9mlvFO1Y",
        "outputId": "1fa32b4b-a0ef-48e1-811b-35a541682547"
      },
      "outputs": [
        {
          "name": "stdout",
          "output_type": "stream",
          "text": [
            "Training accuracy: [0.9560439560439561]\n",
            "Testing accuracy: [0.9340659340659341]\n",
            "Training MCC: [0.9118217054263565]\n",
            "Testing MCC: [0.8677487319560838]\n",
            "Training sensitivity: [0.9583333333333334]\n",
            "Testing sensitivity: [0.95]\n",
            "Training specificity: [0.9534883720930233]\n",
            "Testing specificity: [0.9215686274509803]\n"
          ]
        }
      ],
      "source": [
        "print(\"Training accuracy:\", train_accuracy)\n",
        "print(\"Testing accuracy:\", test_accuracy)\n",
        "print(\"Training MCC:\", train_mcc)\n",
        "print(\"Testing MCC:\", test_mcc)\n",
        "print(\"Training sensitivity:\", train_sensitivity)\n",
        "print(\"Testing sensitivity:\", test_sensitivity)\n",
        "print(\"Training specificity:\", train_specificity)\n",
        "print(\"Testing specificity:\", test_specificity)"
      ]
    },
    {
      "cell_type": "code",
      "execution_count": null,
      "metadata": {
        "id": "eXWFVwKoFO3q"
      },
      "outputs": [],
      "source": [
        "#Clearing the lists so that we can keep performance values for the next classifier\n",
        "train_accuracy.clear()\n",
        "test_accuracy.clear()\n",
        "\n",
        "train_mcc.clear()\n",
        "test_mcc.clear()\n",
        "\n",
        "train_sensitivity.clear()\n",
        "test_sensitivity.clear()\n",
        "\n",
        "train_specificity.clear()\n",
        "test_specificity.clear()"
      ]
    },
    {
      "cell_type": "markdown",
      "metadata": {
        "id": "7aZ0OYahIxbt"
      },
      "source": [
        "#SupportVectorClassifier"
      ]
    },
    {
      "cell_type": "code",
      "execution_count": null,
      "metadata": {
        "colab": {
          "base_uri": "https://localhost:8080/"
        },
        "id": "2amDTHPMFO7L",
        "outputId": "8e609bdb-56fe-4e12-8388-ae9b0608d75f"
      },
      "outputs": [
        {
          "name": "stdout",
          "output_type": "stream",
          "text": [
            "<class 'numpy.ndarray'> <class 'numpy.ndarray'>\n",
            "(364,) (91,)\n"
          ]
        },
        {
          "name": "stderr",
          "output_type": "stream",
          "text": [
            "/usr/local/lib/python3.7/dist-packages/sklearn/utils/validation.py:993: DataConversionWarning: A column-vector y was passed when a 1d array was expected. Please change the shape of y to (n_samples, ), for example using ravel().\n",
            "  y = column_or_1d(y, warn=True)\n"
          ]
        }
      ],
      "source": [
        "###############SupportVectorClassifier#################\n",
        "svc.fit(x_train, y_train)#machine k train korlam\n",
        "train_pred = svc.predict(x_train)\n",
        "test_pred = svc.predict(x_test)\n",
        "\n",
        "\n",
        "print(type(train_pred), type(test_pred))\n",
        "print(train_pred.shape, test_pred.shape)\n",
        "\n",
        "        \n",
        "        \n",
        "###############ACCURACY#################\n",
        "train_accuracy.append(accuracy_score(y_train, train_pred))\n",
        "test_accuracy.append(accuracy_score(y_test, test_pred))\n",
        "\n",
        "\n",
        "###############MCC#################\n",
        "train_mcc.append(matthews_corrcoef(y_train, train_pred))\n",
        "test_mcc.append(matthews_corrcoef(y_test, test_pred))\n",
        "\n",
        "\n",
        "###############Sensitivity & Specificity#################\n",
        "tn, fp, fn, tp = confusion_matrix(y_train, train_pred).ravel()\n",
        "train_sensitivity.append(tn/(tn+fp))\n",
        "train_specificity.append(tp/(tp+fn))\n",
        "\n",
        "tn, fp, fn, tp = confusion_matrix(y_test, test_pred).ravel()\n",
        "test_sensitivity.append(tn/(tn+fp))\n",
        "test_specificity.append(tp/(tp+fn))"
      ]
    },
    {
      "cell_type": "code",
      "execution_count": null,
      "metadata": {
        "colab": {
          "base_uri": "https://localhost:8080/"
        },
        "id": "fHFaTQFxHMEI",
        "outputId": "72ac1c77-4c96-44c5-8cf0-54bc1880cce0"
      },
      "outputs": [
        {
          "name": "stdout",
          "output_type": "stream",
          "text": [
            "Training accuracy: [0.9560439560439561]\n",
            "Testing accuracy: [0.9340659340659341]\n",
            "Training MCC: [0.9118217054263565]\n",
            "Testing MCC: [0.8677487319560838]\n",
            "Training sensitivity: [0.9583333333333334]\n",
            "Testing sensitivity: [0.95]\n",
            "Training specificity: [0.9534883720930233]\n",
            "Testing specificity: [0.9215686274509803]\n"
          ]
        }
      ],
      "source": [
        "print(\"Training accuracy:\", train_accuracy)\n",
        "print(\"Testing accuracy:\", test_accuracy)\n",
        "print(\"Training MCC:\", train_mcc)\n",
        "print(\"Testing MCC:\", test_mcc)\n",
        "print(\"Training sensitivity:\", train_sensitivity)\n",
        "print(\"Testing sensitivity:\", test_sensitivity)\n",
        "print(\"Training specificity:\", train_specificity)\n",
        "print(\"Testing specificity:\", test_specificity)"
      ]
    },
    {
      "cell_type": "code",
      "execution_count": null,
      "metadata": {
        "id": "5j2Gep8fHMGr"
      },
      "outputs": [],
      "source": [
        "#Clearing the lists so that we can keep performance values for the next classifier\n",
        "train_accuracy.clear()\n",
        "test_accuracy.clear()\n",
        "\n",
        "train_mcc.clear()\n",
        "test_mcc.clear()\n",
        "\n",
        "train_sensitivity.clear()\n",
        "test_sensitivity.clear()\n",
        "\n",
        "train_specificity.clear()\n",
        "test_specificity.clear()"
      ]
    },
    {
      "cell_type": "markdown",
      "metadata": {
        "id": "bc-4WlOsMC9U"
      },
      "source": [
        "#XGB Classifier"
      ]
    },
    {
      "cell_type": "code",
      "execution_count": null,
      "metadata": {
        "colab": {
          "base_uri": "https://localhost:8080/"
        },
        "id": "BNT-2xOIHMJI",
        "outputId": "3ee58f2d-4557-40ea-8fb3-0efe5cc53d98"
      },
      "outputs": [
        {
          "name": "stdout",
          "output_type": "stream",
          "text": [
            "<class 'numpy.ndarray'> <class 'numpy.ndarray'>\n",
            "(364,) (91,)\n"
          ]
        },
        {
          "name": "stderr",
          "output_type": "stream",
          "text": [
            "/usr/local/lib/python3.7/dist-packages/sklearn/preprocessing/_label.py:98: DataConversionWarning: A column-vector y was passed when a 1d array was expected. Please change the shape of y to (n_samples, ), for example using ravel().\n",
            "  y = column_or_1d(y, warn=True)\n",
            "/usr/local/lib/python3.7/dist-packages/sklearn/preprocessing/_label.py:133: DataConversionWarning: A column-vector y was passed when a 1d array was expected. Please change the shape of y to (n_samples, ), for example using ravel().\n",
            "  y = column_or_1d(y, warn=True)\n"
          ]
        }
      ],
      "source": [
        "###############xgb_classifier#################\n",
        "xgb_classifier.fit(x_train, y_train)#machine k train korlam\n",
        "train_pred = xgb_classifier.predict(x_train)\n",
        "test_pred = xgb_classifier.predict(x_test)\n",
        "\n",
        "\n",
        "print(type(train_pred), type(test_pred))\n",
        "print(train_pred.shape, test_pred.shape)\n",
        "\n",
        "        \n",
        "        \n",
        "###############ACCURACY#################\n",
        "train_accuracy.append(accuracy_score(y_train, train_pred))\n",
        "test_accuracy.append(accuracy_score(y_test, test_pred))\n",
        "\n",
        "\n",
        "###############MCC#################\n",
        "train_mcc.append(matthews_corrcoef(y_train, train_pred))\n",
        "test_mcc.append(matthews_corrcoef(y_test, test_pred))\n",
        "\n",
        "\n",
        "###############Sensitivity & Specificity#################\n",
        "tn, fp, fn, tp = confusion_matrix(y_train, train_pred).ravel()\n",
        "train_sensitivity.append(tn/(tn+fp))\n",
        "train_specificity.append(tp/(tp+fn))\n",
        "\n",
        "tn, fp, fn, tp = confusion_matrix(y_test, test_pred).ravel()\n",
        "test_sensitivity.append(tn/(tn+fp))\n",
        "test_specificity.append(tp/(tp+fn))"
      ]
    },
    {
      "cell_type": "code",
      "execution_count": null,
      "metadata": {
        "colab": {
          "base_uri": "https://localhost:8080/"
        },
        "id": "LM6uPZKVHMLl",
        "outputId": "091c9382-dee6-4fda-a50e-195b20df0caf"
      },
      "outputs": [
        {
          "name": "stdout",
          "output_type": "stream",
          "text": [
            "Training accuracy: [0.9587912087912088]\n",
            "Testing accuracy: [0.9340659340659341]\n",
            "Training MCC: [0.9173717969081178]\n",
            "Testing MCC: [0.8677487319560838]\n",
            "Training sensitivity: [0.9583333333333334]\n",
            "Testing sensitivity: [0.95]\n",
            "Training specificity: [0.9593023255813954]\n",
            "Testing specificity: [0.9215686274509803]\n"
          ]
        }
      ],
      "source": [
        "print(\"Training accuracy:\", train_accuracy)\n",
        "print(\"Testing accuracy:\", test_accuracy)\n",
        "print(\"Training MCC:\", train_mcc)\n",
        "print(\"Testing MCC:\", test_mcc)\n",
        "print(\"Training sensitivity:\", train_sensitivity)\n",
        "print(\"Testing sensitivity:\", test_sensitivity)\n",
        "print(\"Training specificity:\", train_specificity)\n",
        "print(\"Testing specificity:\", test_specificity)"
      ]
    },
    {
      "cell_type": "code",
      "execution_count": null,
      "metadata": {
        "id": "lOdq6va0HMOD"
      },
      "outputs": [],
      "source": [
        "#Clearing the lists so that we can keep performance values for the next classifier\n",
        "train_accuracy.clear()\n",
        "test_accuracy.clear()\n",
        "\n",
        "train_mcc.clear()\n",
        "test_mcc.clear()\n",
        "\n",
        "train_sensitivity.clear()\n",
        "test_sensitivity.clear()\n",
        "\n",
        "train_specificity.clear()\n",
        "test_specificity.clear()"
      ]
    },
    {
      "cell_type": "markdown",
      "metadata": {
        "id": "vTLhU1jiNen4"
      },
      "source": [
        "#Random Forest Classifier"
      ]
    },
    {
      "cell_type": "code",
      "execution_count": null,
      "metadata": {
        "colab": {
          "base_uri": "https://localhost:8080/"
        },
        "id": "UYQgz_HIHMQZ",
        "outputId": "bf20d894-c5a3-48be-c3fe-8f0936262915"
      },
      "outputs": [
        {
          "name": "stdout",
          "output_type": "stream",
          "text": [
            "<class 'numpy.ndarray'> <class 'numpy.ndarray'>\n",
            "(364,) (91,)\n"
          ]
        },
        {
          "name": "stderr",
          "output_type": "stream",
          "text": [
            "/usr/local/lib/python3.7/dist-packages/ipykernel_launcher.py:2: DataConversionWarning: A column-vector y was passed when a 1d array was expected. Please change the shape of y to (n_samples,), for example using ravel().\n",
            "  \n"
          ]
        }
      ],
      "source": [
        "###############random_forest_classifier#################\n",
        "random_forest_classifier.fit(x_train, y_train)#machine k train korlam\n",
        "train_pred = random_forest_classifier.predict(x_train)\n",
        "test_pred = random_forest_classifier.predict(x_test)\n",
        "\n",
        "\n",
        "print(type(train_pred), type(test_pred))\n",
        "print(train_pred.shape, test_pred.shape)\n",
        "\n",
        "        \n",
        "        \n",
        "###############ACCURACY#################\n",
        "train_accuracy.append(accuracy_score(y_train, train_pred))\n",
        "test_accuracy.append(accuracy_score(y_test, test_pred))\n",
        "\n",
        "\n",
        "###############MCC#################\n",
        "train_mcc.append(matthews_corrcoef(y_train, train_pred))\n",
        "test_mcc.append(matthews_corrcoef(y_test, test_pred))\n",
        "\n",
        "\n",
        "###############Sensitivity & Specificity#################\n",
        "tn, fp, fn, tp = confusion_matrix(y_train, train_pred).ravel()\n",
        "train_sensitivity.append(tn/(tn+fp))\n",
        "train_specificity.append(tp/(tp+fn))\n",
        "\n",
        "tn, fp, fn, tp = confusion_matrix(y_test, test_pred).ravel()\n",
        "test_sensitivity.append(tn/(tn+fp))\n",
        "test_specificity.append(tp/(tp+fn))"
      ]
    },
    {
      "cell_type": "code",
      "execution_count": null,
      "metadata": {
        "colab": {
          "base_uri": "https://localhost:8080/"
        },
        "id": "NygIlBmIHMSk",
        "outputId": "a24be3d4-473f-4af0-9ec7-80ced8a54c04"
      },
      "outputs": [
        {
          "name": "stdout",
          "output_type": "stream",
          "text": [
            "Training accuracy: [0.967032967032967]\n",
            "Testing accuracy: [0.9340659340659341]\n",
            "Training MCC: [0.9339629737631366]\n",
            "Testing MCC: [0.8677487319560838]\n",
            "Training sensitivity: [0.9635416666666666]\n",
            "Testing sensitivity: [0.95]\n",
            "Training specificity: [0.9709302325581395]\n",
            "Testing specificity: [0.9215686274509803]\n"
          ]
        }
      ],
      "source": [
        "print(\"Training accuracy:\", train_accuracy)\n",
        "print(\"Testing accuracy:\", test_accuracy)\n",
        "print(\"Training MCC:\", train_mcc)\n",
        "print(\"Testing MCC:\", test_mcc)\n",
        "print(\"Training sensitivity:\", train_sensitivity)\n",
        "print(\"Testing sensitivity:\", test_sensitivity)\n",
        "print(\"Training specificity:\", train_specificity)\n",
        "print(\"Testing specificity:\", test_specificity)"
      ]
    },
    {
      "cell_type": "code",
      "execution_count": null,
      "metadata": {
        "id": "w6sgWIU-HMUm"
      },
      "outputs": [],
      "source": [
        "#Clearing the lists so that we can keep performance values for the next classifier\n",
        "train_accuracy.clear()\n",
        "test_accuracy.clear()\n",
        "\n",
        "train_mcc.clear()\n",
        "test_mcc.clear()\n",
        "\n",
        "train_sensitivity.clear()\n",
        "test_sensitivity.clear()\n",
        "\n",
        "train_specificity.clear()\n",
        "test_specificity.clear()"
      ]
    }
  ],
  "metadata": {
    "colab": {
      "collapsed_sections": [],
      "name": "drug_overdose.ipynb",
      "provenance": []
    },
    "kernelspec": {
      "display_name": "Python 3",
      "name": "python3"
    },
    "language_info": {
      "name": "python"
    }
  },
  "nbformat": 4,
  "nbformat_minor": 0
}
