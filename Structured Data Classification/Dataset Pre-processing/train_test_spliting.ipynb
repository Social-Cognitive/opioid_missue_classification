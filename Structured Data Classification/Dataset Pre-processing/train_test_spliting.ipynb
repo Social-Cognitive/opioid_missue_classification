{
  "nbformat": 4,
  "nbformat_minor": 0,
  "metadata": {
    "colab": {
      "name": "train_test_spliting.ipynb",
      "provenance": [],
      "collapsed_sections": []
    },
    "kernelspec": {
      "name": "python3",
      "display_name": "Python 3"
    },
    "language_info": {
      "name": "python"
    }
  },
  "cells": [
    {
      "cell_type": "code",
      "execution_count": null,
      "metadata": {
        "colab": {
          "base_uri": "https://localhost:8080/"
        },
        "id": "KF9lO_sVMd5M",
        "outputId": "0f92898b-2342-4f03-c0ea-4b30f2388cb1"
      },
      "outputs": [
        {
          "output_type": "stream",
          "name": "stdout",
          "text": [
            "Mounted at /content/drive\n"
          ]
        }
      ],
      "source": [
        "from google.colab import drive\n",
        "drive.mount('/content/drive', force_remount=True)"
      ]
    },
    {
      "cell_type": "code",
      "source": [
        "%cd /content/drive/MyDrive/Thesis on predicting drug overdose intentionality"
      ],
      "metadata": {
        "colab": {
          "base_uri": "https://localhost:8080/"
        },
        "id": "_0AVO37XMt3M",
        "outputId": "a71bff3d-68f1-4b3c-e3e9-3398f7850da7"
      },
      "execution_count": null,
      "outputs": [
        {
          "output_type": "stream",
          "name": "stdout",
          "text": [
            "/content/drive/MyDrive/Thesis on predicting drug overdose intentionality\n"
          ]
        }
      ]
    },
    {
      "cell_type": "code",
      "source": [
        "import pandas as pd\n",
        "import numpy as np"
      ],
      "metadata": {
        "id": "2XggaHEqMt5h"
      },
      "execution_count": null,
      "outputs": []
    },
    {
      "cell_type": "code",
      "source": [
        "data = np.load('Drug_overdose_data.npy')"
      ],
      "metadata": {
        "id": "Sgk6gKSSMt7n"
      },
      "execution_count": null,
      "outputs": []
    },
    {
      "cell_type": "code",
      "source": [
        "data"
      ],
      "metadata": {
        "colab": {
          "base_uri": "https://localhost:8080/"
        },
        "id": "wN2wxxhIN7jh",
        "outputId": "d99fe54f-aa1d-459b-8379-5f29756434ad"
      },
      "execution_count": null,
      "outputs": [
        {
          "output_type": "execute_result",
          "data": {
            "text/plain": [
              "array([[3.569e+03, 1.888e+01, 0.000e+00, ..., 1.400e-01, 0.000e+00,\n",
              "        1.000e+00],\n",
              "       [3.130e+03, 1.956e+01, 0.000e+00, ..., 6.000e-02, 1.000e-01,\n",
              "        1.000e+00],\n",
              "       [9.910e+02, 1.982e+01, 0.000e+00, ..., 0.000e+00, 0.000e+00,\n",
              "        0.000e+00],\n",
              "       ...,\n",
              "       [1.627e+03, 2.169e+01, 0.000e+00, ..., 2.500e-01, 6.000e-02,\n",
              "        0.000e+00],\n",
              "       [1.674e+03, 1.902e+01, 0.000e+00, ..., 6.000e-02, 6.000e-02,\n",
              "        0.000e+00],\n",
              "       [1.204e+03, 1.468e+01, 0.000e+00, ..., 1.700e-01, 1.700e-01,\n",
              "        0.000e+00]])"
            ]
          },
          "metadata": {},
          "execution_count": 5
        }
      ]
    },
    {
      "cell_type": "code",
      "source": [
        "print(data.shape)\n",
        "len(data)"
      ],
      "metadata": {
        "colab": {
          "base_uri": "https://localhost:8080/"
        },
        "id": "dCoaDoKnMt9V",
        "outputId": "97b7227d-ac60-42d8-d3a2-9860d7fd1208"
      },
      "execution_count": null,
      "outputs": [
        {
          "output_type": "stream",
          "name": "stdout",
          "text": [
            "(452, 71)\n"
          ]
        },
        {
          "output_type": "execute_result",
          "data": {
            "text/plain": [
              "452"
            ]
          },
          "metadata": {},
          "execution_count": 6
        }
      ]
    },
    {
      "cell_type": "code",
      "source": [
        "np.random.shuffle(data)\n",
        "train, test = data[:int(len(data)*0.8),:], data[int(len(data)*0.8):,:]"
      ],
      "metadata": {
        "id": "xbR00vJjMt_L"
      },
      "execution_count": null,
      "outputs": []
    },
    {
      "cell_type": "code",
      "source": [
        "x_train = train[:,:-1]\n",
        "y_train = train[:,-1:]\n",
        "\n",
        "x_test = test[:,:-1]\n",
        "y_test = test[:,-1:]"
      ],
      "metadata": {
        "id": "_v3bVMyUMuBJ"
      },
      "execution_count": null,
      "outputs": []
    },
    {
      "cell_type": "code",
      "source": [
        "print(x_train.shape, y_train.shape)\n",
        "print(x_test.shape, y_test.shape)"
      ],
      "metadata": {
        "colab": {
          "base_uri": "https://localhost:8080/"
        },
        "id": "dmIZ9eo8MuDI",
        "outputId": "bbb14084-480f-4b0e-ec72-77493439125b"
      },
      "execution_count": null,
      "outputs": [
        {
          "output_type": "stream",
          "name": "stdout",
          "text": [
            "(361, 70) (361, 1)\n",
            "(91, 70) (91, 1)\n"
          ]
        }
      ]
    },
    {
      "cell_type": "code",
      "source": [
        "np.save(\"x_train.npy\",x_train)\n",
        "np.save(\"y_train.npy\",y_train)\n",
        "np.save(\"x_test.npy\",x_test)\n",
        "np.save(\"y_test.npy\",y_test)"
      ],
      "metadata": {
        "id": "Cm9EaTSQOQQp"
      },
      "execution_count": null,
      "outputs": []
    }
  ]
}