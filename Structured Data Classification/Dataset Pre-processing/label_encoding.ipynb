{
  "cells": [
    {
      "cell_type": "code",
      "execution_count": null,
      "metadata": {
        "id": "yZoubnceKd8Q"
      },
      "outputs": [],
      "source": [
        "import pandas as pd\n",
        "import numpy as np"
      ]
    },
    {
      "cell_type": "code",
      "execution_count": null,
      "metadata": {
        "colab": {
          "base_uri": "https://localhost:8080/",
          "height": 406
        },
        "id": "FPgoqSdfIsnB",
        "outputId": "5254d99d-6f8b-49d6-cac4-70ed46f6492a"
      },
      "outputs": [
        {
          "output_type": "execute_result",
          "data": {
            "text/plain": [
              "         High level category(icd-9) Age Category gender admission_type  \\\n",
              "0              Poisoning and Injury       Middle      F      EMERGENCY   \n",
              "1              Poisoning and Injury       Middle      M      EMERGENCY   \n",
              "2              Poisoning and Injury        Young      F      EMERGENCY   \n",
              "3              Poisoning and Injury       Middle      M      EMERGENCY   \n",
              "4  Diseases of genitourinary system        Young      F      EMERGENCY   \n",
              "\n",
              "          discharge_location insurance marital_status               ethnicity  \\\n",
              "0   DISCH-TRAN TO PSYCH HOSP  Medicaid        WIDOWED                   WHITE   \n",
              "1  DISC-TRAN CANCER/CHLDRN H  Medicare      SEPARATED  BLACK/AFRICAN AMERICAN   \n",
              "2   DISCH-TRAN TO PSYCH HOSP   Private         SINGLE                   WHITE   \n",
              "3   DISCH-TRAN TO PSYCH HOSP   Private        MARRIED                   WHITE   \n",
              "4                       HOME   Private        MARRIED                   WHITE   \n",
              "\n",
              "                   High level category(diagnosis) los_category Mental_status  \\\n",
              "0                            Poisoning and Injury        Short            No   \n",
              "1                            Poisoning and Injury        Short           Yes   \n",
              "2                            Poisoning and Injury       Midium            No   \n",
              "3  Diseases of nervous system and Mental Disorder        Large           Yes   \n",
              "4        Diseases of blood and circulatory system        Large            No   \n",
              "\n",
              "  Intentional  \n",
              "0          No  \n",
              "1         Yes  \n",
              "2          No  \n",
              "3         Yes  \n",
              "4          No  "
            ],
            "text/html": [
              "\n",
              "  <div id=\"df-ac230703-6183-4e64-b544-db59a6d8831f\">\n",
              "    <div class=\"colab-df-container\">\n",
              "      <div>\n",
              "<style scoped>\n",
              "    .dataframe tbody tr th:only-of-type {\n",
              "        vertical-align: middle;\n",
              "    }\n",
              "\n",
              "    .dataframe tbody tr th {\n",
              "        vertical-align: top;\n",
              "    }\n",
              "\n",
              "    .dataframe thead th {\n",
              "        text-align: right;\n",
              "    }\n",
              "</style>\n",
              "<table border=\"1\" class=\"dataframe\">\n",
              "  <thead>\n",
              "    <tr style=\"text-align: right;\">\n",
              "      <th></th>\n",
              "      <th>High level category(icd-9)</th>\n",
              "      <th>Age Category</th>\n",
              "      <th>gender</th>\n",
              "      <th>admission_type</th>\n",
              "      <th>discharge_location</th>\n",
              "      <th>insurance</th>\n",
              "      <th>marital_status</th>\n",
              "      <th>ethnicity</th>\n",
              "      <th>High level category(diagnosis)</th>\n",
              "      <th>los_category</th>\n",
              "      <th>Mental_status</th>\n",
              "      <th>Intentional</th>\n",
              "    </tr>\n",
              "  </thead>\n",
              "  <tbody>\n",
              "    <tr>\n",
              "      <th>0</th>\n",
              "      <td>Poisoning and Injury</td>\n",
              "      <td>Middle</td>\n",
              "      <td>F</td>\n",
              "      <td>EMERGENCY</td>\n",
              "      <td>DISCH-TRAN TO PSYCH HOSP</td>\n",
              "      <td>Medicaid</td>\n",
              "      <td>WIDOWED</td>\n",
              "      <td>WHITE</td>\n",
              "      <td>Poisoning and Injury</td>\n",
              "      <td>Short</td>\n",
              "      <td>No</td>\n",
              "      <td>No</td>\n",
              "    </tr>\n",
              "    <tr>\n",
              "      <th>1</th>\n",
              "      <td>Poisoning and Injury</td>\n",
              "      <td>Middle</td>\n",
              "      <td>M</td>\n",
              "      <td>EMERGENCY</td>\n",
              "      <td>DISC-TRAN CANCER/CHLDRN H</td>\n",
              "      <td>Medicare</td>\n",
              "      <td>SEPARATED</td>\n",
              "      <td>BLACK/AFRICAN AMERICAN</td>\n",
              "      <td>Poisoning and Injury</td>\n",
              "      <td>Short</td>\n",
              "      <td>Yes</td>\n",
              "      <td>Yes</td>\n",
              "    </tr>\n",
              "    <tr>\n",
              "      <th>2</th>\n",
              "      <td>Poisoning and Injury</td>\n",
              "      <td>Young</td>\n",
              "      <td>F</td>\n",
              "      <td>EMERGENCY</td>\n",
              "      <td>DISCH-TRAN TO PSYCH HOSP</td>\n",
              "      <td>Private</td>\n",
              "      <td>SINGLE</td>\n",
              "      <td>WHITE</td>\n",
              "      <td>Poisoning and Injury</td>\n",
              "      <td>Midium</td>\n",
              "      <td>No</td>\n",
              "      <td>No</td>\n",
              "    </tr>\n",
              "    <tr>\n",
              "      <th>3</th>\n",
              "      <td>Poisoning and Injury</td>\n",
              "      <td>Middle</td>\n",
              "      <td>M</td>\n",
              "      <td>EMERGENCY</td>\n",
              "      <td>DISCH-TRAN TO PSYCH HOSP</td>\n",
              "      <td>Private</td>\n",
              "      <td>MARRIED</td>\n",
              "      <td>WHITE</td>\n",
              "      <td>Diseases of nervous system and Mental Disorder</td>\n",
              "      <td>Large</td>\n",
              "      <td>Yes</td>\n",
              "      <td>Yes</td>\n",
              "    </tr>\n",
              "    <tr>\n",
              "      <th>4</th>\n",
              "      <td>Diseases of genitourinary system</td>\n",
              "      <td>Young</td>\n",
              "      <td>F</td>\n",
              "      <td>EMERGENCY</td>\n",
              "      <td>HOME</td>\n",
              "      <td>Private</td>\n",
              "      <td>MARRIED</td>\n",
              "      <td>WHITE</td>\n",
              "      <td>Diseases of blood and circulatory system</td>\n",
              "      <td>Large</td>\n",
              "      <td>No</td>\n",
              "      <td>No</td>\n",
              "    </tr>\n",
              "  </tbody>\n",
              "</table>\n",
              "</div>\n",
              "      <button class=\"colab-df-convert\" onclick=\"convertToInteractive('df-ac230703-6183-4e64-b544-db59a6d8831f')\"\n",
              "              title=\"Convert this dataframe to an interactive table.\"\n",
              "              style=\"display:none;\">\n",
              "        \n",
              "  <svg xmlns=\"http://www.w3.org/2000/svg\" height=\"24px\"viewBox=\"0 0 24 24\"\n",
              "       width=\"24px\">\n",
              "    <path d=\"M0 0h24v24H0V0z\" fill=\"none\"/>\n",
              "    <path d=\"M18.56 5.44l.94 2.06.94-2.06 2.06-.94-2.06-.94-.94-2.06-.94 2.06-2.06.94zm-11 1L8.5 8.5l.94-2.06 2.06-.94-2.06-.94L8.5 2.5l-.94 2.06-2.06.94zm10 10l.94 2.06.94-2.06 2.06-.94-2.06-.94-.94-2.06-.94 2.06-2.06.94z\"/><path d=\"M17.41 7.96l-1.37-1.37c-.4-.4-.92-.59-1.43-.59-.52 0-1.04.2-1.43.59L10.3 9.45l-7.72 7.72c-.78.78-.78 2.05 0 2.83L4 21.41c.39.39.9.59 1.41.59.51 0 1.02-.2 1.41-.59l7.78-7.78 2.81-2.81c.8-.78.8-2.07 0-2.86zM5.41 20L4 18.59l7.72-7.72 1.47 1.35L5.41 20z\"/>\n",
              "  </svg>\n",
              "      </button>\n",
              "      \n",
              "  <style>\n",
              "    .colab-df-container {\n",
              "      display:flex;\n",
              "      flex-wrap:wrap;\n",
              "      gap: 12px;\n",
              "    }\n",
              "\n",
              "    .colab-df-convert {\n",
              "      background-color: #E8F0FE;\n",
              "      border: none;\n",
              "      border-radius: 50%;\n",
              "      cursor: pointer;\n",
              "      display: none;\n",
              "      fill: #1967D2;\n",
              "      height: 32px;\n",
              "      padding: 0 0 0 0;\n",
              "      width: 32px;\n",
              "    }\n",
              "\n",
              "    .colab-df-convert:hover {\n",
              "      background-color: #E2EBFA;\n",
              "      box-shadow: 0px 1px 2px rgba(60, 64, 67, 0.3), 0px 1px 3px 1px rgba(60, 64, 67, 0.15);\n",
              "      fill: #174EA6;\n",
              "    }\n",
              "\n",
              "    [theme=dark] .colab-df-convert {\n",
              "      background-color: #3B4455;\n",
              "      fill: #D2E3FC;\n",
              "    }\n",
              "\n",
              "    [theme=dark] .colab-df-convert:hover {\n",
              "      background-color: #434B5C;\n",
              "      box-shadow: 0px 1px 3px 1px rgba(0, 0, 0, 0.15);\n",
              "      filter: drop-shadow(0px 1px 2px rgba(0, 0, 0, 0.3));\n",
              "      fill: #FFFFFF;\n",
              "    }\n",
              "  </style>\n",
              "\n",
              "      <script>\n",
              "        const buttonEl =\n",
              "          document.querySelector('#df-ac230703-6183-4e64-b544-db59a6d8831f button.colab-df-convert');\n",
              "        buttonEl.style.display =\n",
              "          google.colab.kernel.accessAllowed ? 'block' : 'none';\n",
              "\n",
              "        async function convertToInteractive(key) {\n",
              "          const element = document.querySelector('#df-ac230703-6183-4e64-b544-db59a6d8831f');\n",
              "          const dataTable =\n",
              "            await google.colab.kernel.invokeFunction('convertToInteractive',\n",
              "                                                     [key], {});\n",
              "          if (!dataTable) return;\n",
              "\n",
              "          const docLinkHtml = 'Like what you see? Visit the ' +\n",
              "            '<a target=\"_blank\" href=https://colab.research.google.com/notebooks/data_table.ipynb>data table notebook</a>'\n",
              "            + ' to learn more about interactive tables.';\n",
              "          element.innerHTML = '';\n",
              "          dataTable['output_type'] = 'display_data';\n",
              "          await google.colab.output.renderOutput(dataTable, element);\n",
              "          const docLink = document.createElement('div');\n",
              "          docLink.innerHTML = docLinkHtml;\n",
              "          element.appendChild(docLink);\n",
              "        }\n",
              "      </script>\n",
              "    </div>\n",
              "  </div>\n",
              "  "
            ]
          },
          "metadata": {},
          "execution_count": 3
        }
      ],
      "source": [
        "data = pd.read_csv(\"Drug_overdose_data.csv\", encoding_errors='ignore')\n",
        "# Preview the first 5 lines of the loaded data \n",
        "data.head()"
      ]
    },
    {
      "cell_type": "code",
      "execution_count": null,
      "metadata": {
        "id": "_8PeVA3Ddru8"
      },
      "outputs": [],
      "source": [
        "npy = data.to_numpy()"
      ]
    },
    {
      "cell_type": "code",
      "execution_count": null,
      "metadata": {
        "id": "Zs69ksVpIsuF"
      },
      "outputs": [],
      "source": [
        "data = data[['High level category(icd-9)','Age Category','gender','discharge_location','insurance','marital_status','ethnicity','High level category(diagnosis)','los_category','Mental_status','Intentional']]"
      ]
    },
    {
      "cell_type": "markdown",
      "metadata": {
        "id": "YNf_8yFspX0s"
      },
      "source": [
        "# Label encoding (Replacing strings with numeric values)"
      ]
    },
    {
      "cell_type": "code",
      "execution_count": null,
      "metadata": {
        "colab": {
          "base_uri": "https://localhost:8080/"
        },
        "id": "9WXcyQDNRc4x",
        "outputId": "06790ca6-cf0c-4d58-e294-25e04070f0bb"
      },
      "outputs": [
        {
          "data": {
            "text/plain": [
              "{0.0: 0, 1.0: 1, 2.0: 2, 3.0: 3, 4.0: 4, 5.0: 5, 6.0: 6, 7.0: 7, nan: 8}"
            ]
          },
          "execution_count": 18,
          "metadata": {},
          "output_type": "execute_result"
        }
      ],
      "source": [
        "ordinal_label = {k: i for i, k in enumerate(data['High level category(icd-9)'].unique(), 0)}\n",
        "ordinal_label"
      ]
    },
    {
      "cell_type": "code",
      "execution_count": null,
      "metadata": {
        "id": "1G2z49OUjT5-"
      },
      "outputs": [],
      "source": [
        "ordinal_label = {'Diseases of blood and circulatory system': 7,\n",
        " 'Diseases of digestive system': 4,\n",
        " 'Diseases of genitourinary system': 1,\n",
        " 'Diseases of nervous system and Mental Disorder': 3,\n",
        " 'Diseases of respiratory system': 5,\n",
        " 'Endocrine, Metabolic, Immunity Disorder and Sepsis': 6,\n",
        " 'Poisoning and Injury': 0,\n",
        " 'Skin, Subcutaneous tissue and Musculoskeletal diseases ': 2}\n",
        "\n",
        "data['High level category(icd-9)'] = data['High level category(icd-9)'].map(ordinal_label)"
      ]
    },
    {
      "cell_type": "code",
      "execution_count": null,
      "metadata": {
        "colab": {
          "base_uri": "https://localhost:8080/"
        },
        "id": "H5RIIPvbJ7uv",
        "outputId": "15fc4cd1-d973-4531-eeca-cbc5b3bdb535"
      },
      "outputs": [
        {
          "data": {
            "text/plain": [
              "{0.0: 0, 1.0: 1, 2.0: 2, nan: 3}"
            ]
          },
          "execution_count": 20,
          "metadata": {},
          "output_type": "execute_result"
        }
      ],
      "source": [
        "ordinal_label = {k: i for i, k in enumerate(data['Age Category'].unique(), 0)}\n",
        "ordinal_label"
      ]
    },
    {
      "cell_type": "code",
      "execution_count": null,
      "metadata": {
        "id": "Ehjp8Z9wlTC3"
      },
      "outputs": [],
      "source": [
        "ordinal_label = {'Middle': 0, 'Senior': 2, 'Young': 1}\n",
        "\n",
        "data['Age Category'] = data['Age Category'].map(ordinal_label)"
      ]
    },
    {
      "cell_type": "code",
      "execution_count": null,
      "metadata": {
        "colab": {
          "base_uri": "https://localhost:8080/"
        },
        "id": "t2hp3QrBLukk",
        "outputId": "086fb489-5323-4d9e-a67b-4c0630435fa1"
      },
      "outputs": [
        {
          "data": {
            "text/plain": [
              "{nan: 0}"
            ]
          },
          "execution_count": 51,
          "metadata": {},
          "output_type": "execute_result"
        }
      ],
      "source": [
        "ordinal_label = {k: i for i, k in enumerate(data['gender'].unique(), 0)}\n",
        "ordinal_label\n"
      ]
    },
    {
      "cell_type": "code",
      "execution_count": null,
      "metadata": {
        "id": "2_YwHV9PlW8X"
      },
      "outputs": [],
      "source": [
        "ordinal_label = {'F': 0, 'M': 1}\n",
        "\n",
        "data['gender'] = data['gender'].map(ordinal_label)"
      ]
    },
    {
      "cell_type": "code",
      "execution_count": null,
      "metadata": {
        "colab": {
          "base_uri": "https://localhost:8080/"
        },
        "id": "E4kp9A6eLupm",
        "outputId": "8a16a74c-7358-408e-e7b6-b44496a42d5d"
      },
      "outputs": [
        {
          "data": {
            "text/plain": [
              "{'DEAD/EXPIRED': 7,\n",
              " 'DISC-TRAN CANCER/CHLDRN H': 1,\n",
              " 'DISC-TRAN TO FEDERAL HC': 10,\n",
              " 'DISCH-TRAN TO PSYCH HOSP': 0,\n",
              " 'HOME': 2,\n",
              " 'HOME HEALTH CARE': 3,\n",
              " 'HOSPICE-HOME': 8,\n",
              " 'HOSPICE-MEDICAL FACILITY': 14,\n",
              " 'LEFT AGAINST MEDICAL ADVI': 11,\n",
              " 'LONG TERM CARE HOSPITAL': 9,\n",
              " 'OTHER FACILITY': 12,\n",
              " 'REHAB/DISTINCT PART HOSP': 5,\n",
              " 'SHORT TERM HOSPITAL': 4,\n",
              " 'SNF': 6,\n",
              " nan: 13}"
            ]
          },
          "execution_count": 24,
          "metadata": {},
          "output_type": "execute_result"
        }
      ],
      "source": [
        "ordinal_label = {k: i for i, k in enumerate(data['discharge_location'].unique(), 0)}\n",
        "ordinal_label\n"
      ]
    },
    {
      "cell_type": "code",
      "execution_count": null,
      "metadata": {
        "id": "bvjQsA59lXuL"
      },
      "outputs": [],
      "source": [
        "ordinal_label = {'DEAD/EXPIRED': 7,\n",
        " 'DISC-TRAN CANCER/CHLDRN H': 1,\n",
        " 'DISC-TRAN TO FEDERAL HC': 10,\n",
        " 'DISCH-TRAN TO PSYCH HOSP': 0,\n",
        " 'HOME': 2,\n",
        " 'HOME HEALTH CARE': 3,\n",
        " 'HOSPICE-HOME': 8,\n",
        " 'HOSPICE-MEDICAL FACILITY': 14,\n",
        " 'LEFT AGAINST MEDICAL ADVI': 11,\n",
        " 'LONG TERM CARE HOSPITAL': 9,\n",
        " 'OTHER FACILITY': 12,\n",
        " 'REHAB/DISTINCT PART HOSP': 5,\n",
        " 'SHORT TERM HOSPITAL': 4,\n",
        " 'SNF': 6}\n",
        "\n",
        "data['discharge_location'] = data['discharge_location'].map(ordinal_label)"
      ]
    },
    {
      "cell_type": "code",
      "execution_count": null,
      "metadata": {
        "colab": {
          "base_uri": "https://localhost:8080/"
        },
        "id": "L5y6-p4BLuua",
        "outputId": "f40b951e-b7b7-46bc-8143-5d16a154fc7c"
      },
      "outputs": [
        {
          "data": {
            "text/plain": [
              "{'Government': 3,\n",
              " 'Medicaid': 0,\n",
              " 'Medicare': 1,\n",
              " 'Private': 2,\n",
              " 'Self Pay': 4,\n",
              " nan: 5}"
            ]
          },
          "execution_count": 26,
          "metadata": {},
          "output_type": "execute_result"
        }
      ],
      "source": [
        "ordinal_label = {k: i for i, k in enumerate(data['insurance'].unique(), 0)}\n",
        "ordinal_label\n"
      ]
    },
    {
      "cell_type": "code",
      "execution_count": null,
      "metadata": {
        "id": "RedzItWNlYgN"
      },
      "outputs": [],
      "source": [
        "ordinal_label = {'Government': 3,\n",
        " 'Medicaid': 0,\n",
        " 'Medicare': 1,\n",
        " 'Private': 2,\n",
        " 'Self Pay': 4}\n",
        "\n",
        "data['insurance'] = data['insurance'].map(ordinal_label)"
      ]
    },
    {
      "cell_type": "code",
      "execution_count": null,
      "metadata": {
        "colab": {
          "base_uri": "https://localhost:8080/"
        },
        "id": "HmXmcW2ALuyR",
        "outputId": "be6b6949-e70d-46ef-9eb0-0f407cc600ae"
      },
      "outputs": [
        {
          "data": {
            "text/plain": [
              "{'DIVORCED': 4,\n",
              " 'MARRIED': 3,\n",
              " 'SEPARATED': 1,\n",
              " 'SINGLE': 2,\n",
              " 'UNKNOWN (DEFAULT)': 6,\n",
              " 'WIDOWED': 0,\n",
              " nan: 5}"
            ]
          },
          "execution_count": 28,
          "metadata": {},
          "output_type": "execute_result"
        }
      ],
      "source": [
        "ordinal_label = {k: i for i, k in enumerate(data['marital_status'].unique(), 0)}\n",
        "ordinal_label\n"
      ]
    },
    {
      "cell_type": "code",
      "execution_count": null,
      "metadata": {
        "id": "5eC586ZRlZeH"
      },
      "outputs": [],
      "source": [
        "ordinal_label = {'DIVORCED': 4,\n",
        " 'MARRIED': 3,\n",
        " 'SEPARATED': 1,\n",
        " 'SINGLE': 2,\n",
        " 'UNKNOWN (DEFAULT)': 6,\n",
        " 'WIDOWED': 0}\n",
        "\n",
        "data['marital_status'] = data['marital_status'].map(ordinal_label)"
      ]
    },
    {
      "cell_type": "code",
      "execution_count": null,
      "metadata": {
        "colab": {
          "base_uri": "https://localhost:8080/"
        },
        "id": "FYXhxTrzLu2j",
        "outputId": "8a4e9b2c-556e-44e8-dd44-973497804eaa"
      },
      "outputs": [
        {
          "data": {
            "text/plain": [
              "{'ASIAN': 6,\n",
              " 'BLACK/AFRICAN AMERICAN': 1,\n",
              " 'BLACK/CAPE VERDEAN': 11,\n",
              " 'HISPANIC OR LATINO': 5,\n",
              " 'HISPANIC/LATINO - DOMINICAN': 12,\n",
              " 'HISPANIC/LATINO - PUERTO RICAN': 7,\n",
              " 'MULTI RACE ETHNICITY': 15,\n",
              " 'NATIVE HAWAIIAN OR OTHER PACIFIC ISLANDER': 9,\n",
              " 'OTHER': 4,\n",
              " 'PATIENT DECLINED TO ANSWER': 2,\n",
              " 'PORTUGUESE': 16,\n",
              " 'UNABLE TO OBTAIN': 10,\n",
              " 'UNKNOWN/NOT SPECIFIED': 3,\n",
              " 'WHITE': 0,\n",
              " 'WHITE - BRAZILIAN': 14,\n",
              " 'WHITE - RUSSIAN': 8,\n",
              " nan: 13}"
            ]
          },
          "execution_count": 30,
          "metadata": {},
          "output_type": "execute_result"
        }
      ],
      "source": [
        "ordinal_label = {k: i for i, k in enumerate(data['ethnicity'].unique(), 0)}\n",
        "ordinal_label\n"
      ]
    },
    {
      "cell_type": "code",
      "execution_count": null,
      "metadata": {
        "id": "gr309IMklapk"
      },
      "outputs": [],
      "source": [
        "ordinal_label = {'ASIAN': 6,\n",
        " 'BLACK/AFRICAN AMERICAN': 1,\n",
        " 'BLACK/CAPE VERDEAN': 11,\n",
        " 'HISPANIC OR LATINO': 5,\n",
        " 'HISPANIC/LATINO - DOMINICAN': 12,\n",
        " 'HISPANIC/LATINO - PUERTO RICAN': 7,\n",
        " 'MULTI RACE ETHNICITY': 15,\n",
        " 'NATIVE HAWAIIAN OR OTHER PACIFIC ISLANDER': 9,\n",
        " 'OTHER': 4,\n",
        " 'PATIENT DECLINED TO ANSWER': 2,\n",
        " 'PORTUGUESE': 16,\n",
        " 'UNABLE TO OBTAIN': 10,\n",
        " 'UNKNOWN/NOT SPECIFIED': 3,\n",
        " 'WHITE': 0,\n",
        " 'WHITE - BRAZILIAN': 14,\n",
        " 'WHITE - RUSSIAN': 8}\n",
        "\n",
        "data['ethnicity'] = data['ethnicity'].map(ordinal_label)"
      ]
    },
    {
      "cell_type": "code",
      "execution_count": null,
      "metadata": {
        "colab": {
          "base_uri": "https://localhost:8080/"
        },
        "id": "TDLiiTQ2Lu6X",
        "outputId": "cf1b6b3e-955a-4b3e-ccfc-d49454cf1e7b"
      },
      "outputs": [
        {
          "data": {
            "text/plain": [
              "{'Diseases of blood and circulatory system': 2,\n",
              " 'Diseases of digestive system': 4,\n",
              " 'Diseases of genitourinary system': 6,\n",
              " 'Diseases of nervous system and Mental Disorder': 1,\n",
              " 'Diseases of respiratory system': 5,\n",
              " 'Endocrine, Metabolic, Immunity Disorder and Sepsis': 3,\n",
              " 'Poisoning and Injury': 0,\n",
              " 'Skin, Subcutaneous tissue and Musculoskeletal diseases ': 8,\n",
              " nan: 7}"
            ]
          },
          "execution_count": 32,
          "metadata": {},
          "output_type": "execute_result"
        }
      ],
      "source": [
        "ordinal_label = {k: i for i, k in enumerate(data['High level category(diagnosis)'].unique(), 0)}\n",
        "ordinal_label\n"
      ]
    },
    {
      "cell_type": "code",
      "execution_count": null,
      "metadata": {
        "id": "SEtcS63slbhe"
      },
      "outputs": [],
      "source": [
        "ordinal_label = {'Diseases of blood and circulatory system': 2,\n",
        " 'Diseases of digestive system': 4,\n",
        " 'Diseases of genitourinary system': 6,\n",
        " 'Diseases of nervous system and Mental Disorder': 1,\n",
        " 'Diseases of respiratory system': 5,\n",
        " 'Endocrine, Metabolic, Immunity Disorder and Sepsis': 3,\n",
        " 'Poisoning and Injury': 0,\n",
        " 'Skin, Subcutaneous tissue and Musculoskeletal diseases ': 8}\n",
        "\n",
        "data['High level category(diagnosis)'] = data['High level category(diagnosis)'].map(ordinal_label)"
      ]
    },
    {
      "cell_type": "code",
      "execution_count": null,
      "metadata": {
        "colab": {
          "base_uri": "https://localhost:8080/"
        },
        "id": "qwOLzKmJLu-u",
        "outputId": "d41cd759-a532-4b98-abca-114ef7bb5f99"
      },
      "outputs": [
        {
          "data": {
            "text/plain": [
              "{'Large': 2, 'Midium': 1, 'Short': 0, nan: 3}"
            ]
          },
          "execution_count": 34,
          "metadata": {},
          "output_type": "execute_result"
        }
      ],
      "source": [
        "ordinal_label = {k: i for i, k in enumerate(data['los_category'].unique(), 0)}\n",
        "ordinal_label\n"
      ]
    },
    {
      "cell_type": "code",
      "execution_count": null,
      "metadata": {
        "id": "bIzSVh61lcfW"
      },
      "outputs": [],
      "source": [
        "ordinal_label = {'Large': 2, 'Midium': 1, 'Short': 0}\n",
        "\n",
        "data['los_category'] = data['los_category'].map(ordinal_label)"
      ]
    },
    {
      "cell_type": "code",
      "execution_count": null,
      "metadata": {
        "colab": {
          "base_uri": "https://localhost:8080/"
        },
        "id": "ZNtc-MMTLvDd",
        "outputId": "51d5bbfc-1820-42d8-b51e-0eab6cffa7ee"
      },
      "outputs": [
        {
          "data": {
            "text/plain": [
              "{'No': 0, 'Yes': 1, nan: 2}"
            ]
          },
          "execution_count": 36,
          "metadata": {},
          "output_type": "execute_result"
        }
      ],
      "source": [
        "ordinal_label = {k: i for i, k in enumerate(data['Mental_status'].unique(), 0)}\n",
        "ordinal_label\n"
      ]
    },
    {
      "cell_type": "code",
      "execution_count": null,
      "metadata": {
        "id": "FXjHWBPDldZN"
      },
      "outputs": [],
      "source": [
        "ordinal_label = {'No': 0, 'Yes': 1}\n",
        "\n",
        "data['Mental_status'] = data['Mental_status'].map(ordinal_label)"
      ]
    },
    {
      "cell_type": "code",
      "execution_count": null,
      "metadata": {
        "colab": {
          "base_uri": "https://localhost:8080/"
        },
        "id": "D2yFHn4aLvIX",
        "outputId": "7a4e99f1-00f5-46fd-e077-9e6b9f300dde"
      },
      "outputs": [
        {
          "data": {
            "text/plain": [
              "{'No': 0, 'Yes': 1, nan: 2}"
            ]
          },
          "execution_count": 38,
          "metadata": {},
          "output_type": "execute_result"
        }
      ],
      "source": [
        "ordinal_label = {k: i for i, k in enumerate(data['Intentional'].unique(), 0)}\n",
        "ordinal_label"
      ]
    },
    {
      "cell_type": "code",
      "execution_count": null,
      "metadata": {
        "id": "CpLdL6cpkddM"
      },
      "outputs": [],
      "source": [
        "ordinal_label = {'No': 0, 'Yes': 1}\n",
        "\n",
        "data['Intentional'] = data['Intentional'].map(ordinal_label)"
      ]
    },
    {
      "cell_type": "code",
      "execution_count": null,
      "metadata": {
        "id": "xSBMBC5CprUA"
      },
      "outputs": [],
      "source": [
        "data.to_csv('pre-processed_with_Nan.csv')"
      ]
    }
  ],
  "metadata": {
    "colab": {
      "collapsed_sections": [],
      "name": "label_encoding.ipynb",
      "provenance": []
    },
    "kernelspec": {
      "display_name": "Python 3",
      "name": "python3"
    },
    "language_info": {
      "name": "python"
    }
  },
  "nbformat": 4,
  "nbformat_minor": 0
}