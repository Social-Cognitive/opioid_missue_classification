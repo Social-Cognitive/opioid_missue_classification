{
  "cells": [
    {
      "cell_type": "code",
      "execution_count": null,
      "metadata": {
        "id": "yZoubnceKd8Q"
      },
      "outputs": [],
      "source": [
        "import pandas as pd\n",
        "import numpy as np"
      ]
    },
    {
      "cell_type": "code",
      "execution_count": null,
      "metadata": {
        "colab": {
          "base_uri": "https://localhost:8080/",
          "height": 235
        },
        "id": "FPgoqSdfIsnB",
        "outputId": "335a114c-2777-42b1-ad1f-3a0774e5c835"
      },
      "outputs": [
        {
          "data": {
            "text/html": [
              "\n",
              "  <div id=\"df-0a75c8f8-08ef-4392-ba6a-47ecb2148ce2\">\n",
              "    <div class=\"colab-df-container\">\n",
              "      <div>\n",
              "<style scoped>\n",
              "    .dataframe tbody tr th:only-of-type {\n",
              "        vertical-align: middle;\n",
              "    }\n",
              "\n",
              "    .dataframe tbody tr th {\n",
              "        vertical-align: top;\n",
              "    }\n",
              "\n",
              "    .dataframe thead th {\n",
              "        text-align: right;\n",
              "    }\n",
              "</style>\n",
              "<table border=\"1\" class=\"dataframe\">\n",
              "  <thead>\n",
              "    <tr style=\"text-align: right;\">\n",
              "      <th></th>\n",
              "      <th>Filename</th>\n",
              "      <th>WC</th>\n",
              "      <th>WPS</th>\n",
              "      <th>Qmarks</th>\n",
              "      <th>Unique</th>\n",
              "      <th>Dic</th>\n",
              "      <th>Sixltr</th>\n",
              "      <th>funct</th>\n",
              "      <th>pronoun</th>\n",
              "      <th>ppron</th>\n",
              "      <th>...</th>\n",
              "      <th>work</th>\n",
              "      <th>achieve</th>\n",
              "      <th>leisure</th>\n",
              "      <th>home</th>\n",
              "      <th>money</th>\n",
              "      <th>relig</th>\n",
              "      <th>death</th>\n",
              "      <th>assent</th>\n",
              "      <th>nonfl</th>\n",
              "      <th>filler</th>\n",
              "    </tr>\n",
              "  </thead>\n",
              "  <tbody>\n",
              "    <tr>\n",
              "      <th>0</th>\n",
              "      <td>000.txt</td>\n",
              "      <td>3569</td>\n",
              "      <td>18.88</td>\n",
              "      <td>0.0</td>\n",
              "      <td>24.21</td>\n",
              "      <td>69.07</td>\n",
              "      <td>28.86</td>\n",
              "      <td>43.40</td>\n",
              "      <td>5.77</td>\n",
              "      <td>3.14</td>\n",
              "      <td>...</td>\n",
              "      <td>1.26</td>\n",
              "      <td>0.95</td>\n",
              "      <td>0.36</td>\n",
              "      <td>0.28</td>\n",
              "      <td>0.06</td>\n",
              "      <td>0.00</td>\n",
              "      <td>0.11</td>\n",
              "      <td>0.03</td>\n",
              "      <td>0.14</td>\n",
              "      <td>0.00</td>\n",
              "    </tr>\n",
              "    <tr>\n",
              "      <th>1</th>\n",
              "      <td>001.txt</td>\n",
              "      <td>3130</td>\n",
              "      <td>19.56</td>\n",
              "      <td>0.0</td>\n",
              "      <td>36.17</td>\n",
              "      <td>54.63</td>\n",
              "      <td>31.47</td>\n",
              "      <td>29.01</td>\n",
              "      <td>2.04</td>\n",
              "      <td>1.12</td>\n",
              "      <td>...</td>\n",
              "      <td>2.01</td>\n",
              "      <td>1.44</td>\n",
              "      <td>0.61</td>\n",
              "      <td>0.16</td>\n",
              "      <td>0.06</td>\n",
              "      <td>0.06</td>\n",
              "      <td>0.06</td>\n",
              "      <td>0.03</td>\n",
              "      <td>0.06</td>\n",
              "      <td>0.10</td>\n",
              "    </tr>\n",
              "    <tr>\n",
              "      <th>2</th>\n",
              "      <td>002.txt</td>\n",
              "      <td>991</td>\n",
              "      <td>19.82</td>\n",
              "      <td>0.0</td>\n",
              "      <td>47.83</td>\n",
              "      <td>57.32</td>\n",
              "      <td>29.06</td>\n",
              "      <td>32.09</td>\n",
              "      <td>4.04</td>\n",
              "      <td>2.62</td>\n",
              "      <td>...</td>\n",
              "      <td>1.51</td>\n",
              "      <td>1.11</td>\n",
              "      <td>0.91</td>\n",
              "      <td>0.30</td>\n",
              "      <td>0.00</td>\n",
              "      <td>0.30</td>\n",
              "      <td>0.71</td>\n",
              "      <td>0.00</td>\n",
              "      <td>0.00</td>\n",
              "      <td>0.00</td>\n",
              "    </tr>\n",
              "    <tr>\n",
              "      <th>3</th>\n",
              "      <td>003.txt</td>\n",
              "      <td>732</td>\n",
              "      <td>15.91</td>\n",
              "      <td>0.0</td>\n",
              "      <td>37.30</td>\n",
              "      <td>66.80</td>\n",
              "      <td>27.60</td>\n",
              "      <td>43.44</td>\n",
              "      <td>5.60</td>\n",
              "      <td>4.64</td>\n",
              "      <td>...</td>\n",
              "      <td>0.96</td>\n",
              "      <td>1.91</td>\n",
              "      <td>0.41</td>\n",
              "      <td>0.55</td>\n",
              "      <td>0.14</td>\n",
              "      <td>0.00</td>\n",
              "      <td>0.00</td>\n",
              "      <td>0.00</td>\n",
              "      <td>0.27</td>\n",
              "      <td>0.00</td>\n",
              "    </tr>\n",
              "    <tr>\n",
              "      <th>4</th>\n",
              "      <td>004.txt</td>\n",
              "      <td>1174</td>\n",
              "      <td>36.69</td>\n",
              "      <td>0.0</td>\n",
              "      <td>35.09</td>\n",
              "      <td>46.93</td>\n",
              "      <td>18.65</td>\n",
              "      <td>21.64</td>\n",
              "      <td>2.30</td>\n",
              "      <td>1.53</td>\n",
              "      <td>...</td>\n",
              "      <td>3.24</td>\n",
              "      <td>0.77</td>\n",
              "      <td>0.51</td>\n",
              "      <td>0.17</td>\n",
              "      <td>0.09</td>\n",
              "      <td>0.00</td>\n",
              "      <td>0.43</td>\n",
              "      <td>0.00</td>\n",
              "      <td>0.17</td>\n",
              "      <td>0.09</td>\n",
              "    </tr>\n",
              "  </tbody>\n",
              "</table>\n",
              "<p>5 rows × 71 columns</p>\n",
              "</div>\n",
              "      <button class=\"colab-df-convert\" onclick=\"convertToInteractive('df-0a75c8f8-08ef-4392-ba6a-47ecb2148ce2')\"\n",
              "              title=\"Convert this dataframe to an interactive table.\"\n",
              "              style=\"display:none;\">\n",
              "        \n",
              "  <svg xmlns=\"http://www.w3.org/2000/svg\" height=\"24px\"viewBox=\"0 0 24 24\"\n",
              "       width=\"24px\">\n",
              "    <path d=\"M0 0h24v24H0V0z\" fill=\"none\"/>\n",
              "    <path d=\"M18.56 5.44l.94 2.06.94-2.06 2.06-.94-2.06-.94-.94-2.06-.94 2.06-2.06.94zm-11 1L8.5 8.5l.94-2.06 2.06-.94-2.06-.94L8.5 2.5l-.94 2.06-2.06.94zm10 10l.94 2.06.94-2.06 2.06-.94-2.06-.94-.94-2.06-.94 2.06-2.06.94z\"/><path d=\"M17.41 7.96l-1.37-1.37c-.4-.4-.92-.59-1.43-.59-.52 0-1.04.2-1.43.59L10.3 9.45l-7.72 7.72c-.78.78-.78 2.05 0 2.83L4 21.41c.39.39.9.59 1.41.59.51 0 1.02-.2 1.41-.59l7.78-7.78 2.81-2.81c.8-.78.8-2.07 0-2.86zM5.41 20L4 18.59l7.72-7.72 1.47 1.35L5.41 20z\"/>\n",
              "  </svg>\n",
              "      </button>\n",
              "      \n",
              "  <style>\n",
              "    .colab-df-container {\n",
              "      display:flex;\n",
              "      flex-wrap:wrap;\n",
              "      gap: 12px;\n",
              "    }\n",
              "\n",
              "    .colab-df-convert {\n",
              "      background-color: #E8F0FE;\n",
              "      border: none;\n",
              "      border-radius: 50%;\n",
              "      cursor: pointer;\n",
              "      display: none;\n",
              "      fill: #1967D2;\n",
              "      height: 32px;\n",
              "      padding: 0 0 0 0;\n",
              "      width: 32px;\n",
              "    }\n",
              "\n",
              "    .colab-df-convert:hover {\n",
              "      background-color: #E2EBFA;\n",
              "      box-shadow: 0px 1px 2px rgba(60, 64, 67, 0.3), 0px 1px 3px 1px rgba(60, 64, 67, 0.15);\n",
              "      fill: #174EA6;\n",
              "    }\n",
              "\n",
              "    [theme=dark] .colab-df-convert {\n",
              "      background-color: #3B4455;\n",
              "      fill: #D2E3FC;\n",
              "    }\n",
              "\n",
              "    [theme=dark] .colab-df-convert:hover {\n",
              "      background-color: #434B5C;\n",
              "      box-shadow: 0px 1px 3px 1px rgba(0, 0, 0, 0.15);\n",
              "      filter: drop-shadow(0px 1px 2px rgba(0, 0, 0, 0.3));\n",
              "      fill: #FFFFFF;\n",
              "    }\n",
              "  </style>\n",
              "\n",
              "      <script>\n",
              "        const buttonEl =\n",
              "          document.querySelector('#df-0a75c8f8-08ef-4392-ba6a-47ecb2148ce2 button.colab-df-convert');\n",
              "        buttonEl.style.display =\n",
              "          google.colab.kernel.accessAllowed ? 'block' : 'none';\n",
              "\n",
              "        async function convertToInteractive(key) {\n",
              "          const element = document.querySelector('#df-0a75c8f8-08ef-4392-ba6a-47ecb2148ce2');\n",
              "          const dataTable =\n",
              "            await google.colab.kernel.invokeFunction('convertToInteractive',\n",
              "                                                     [key], {});\n",
              "          if (!dataTable) return;\n",
              "\n",
              "          const docLinkHtml = 'Like what you see? Visit the ' +\n",
              "            '<a target=\"_blank\" href=https://colab.research.google.com/notebooks/data_table.ipynb>data table notebook</a>'\n",
              "            + ' to learn more about interactive tables.';\n",
              "          element.innerHTML = '';\n",
              "          dataTable['output_type'] = 'display_data';\n",
              "          await google.colab.output.renderOutput(dataTable, element);\n",
              "          const docLink = document.createElement('div');\n",
              "          docLink.innerHTML = docLinkHtml;\n",
              "          element.appendChild(docLink);\n",
              "        }\n",
              "      </script>\n",
              "    </div>\n",
              "  </div>\n",
              "  "
            ],
            "text/plain": [
              "  Filename    WC    WPS  Qmarks  Unique    Dic  Sixltr  funct  pronoun  ppron  \\\n",
              "0  000.txt  3569  18.88     0.0   24.21  69.07   28.86  43.40     5.77   3.14   \n",
              "1  001.txt  3130  19.56     0.0   36.17  54.63   31.47  29.01     2.04   1.12   \n",
              "2  002.txt   991  19.82     0.0   47.83  57.32   29.06  32.09     4.04   2.62   \n",
              "3  003.txt   732  15.91     0.0   37.30  66.80   27.60  43.44     5.60   4.64   \n",
              "4  004.txt  1174  36.69     0.0   35.09  46.93   18.65  21.64     2.30   1.53   \n",
              "\n",
              "   ...  work  achieve  leisure  home  money  relig  death  assent  nonfl  \\\n",
              "0  ...  1.26     0.95     0.36  0.28   0.06   0.00   0.11    0.03   0.14   \n",
              "1  ...  2.01     1.44     0.61  0.16   0.06   0.06   0.06    0.03   0.06   \n",
              "2  ...  1.51     1.11     0.91  0.30   0.00   0.30   0.71    0.00   0.00   \n",
              "3  ...  0.96     1.91     0.41  0.55   0.14   0.00   0.00    0.00   0.27   \n",
              "4  ...  3.24     0.77     0.51  0.17   0.09   0.00   0.43    0.00   0.17   \n",
              "\n",
              "   filler  \n",
              "0    0.00  \n",
              "1    0.10  \n",
              "2    0.00  \n",
              "3    0.00  \n",
              "4    0.09  \n",
              "\n",
              "[5 rows x 71 columns]"
            ]
          },
          "execution_count": 32,
          "metadata": {},
          "output_type": "execute_result"
        }
      ],
      "source": [
        "data = pd.read_csv(\"Drug_overdose_data.csv\", encoding_errors='ignore')\n",
        "# Preview the first 5 lines of the loaded data \n",
        "data.head()"
      ]
    },
    {
      "cell_type": "code",
      "execution_count": null,
      "metadata": {
        "id": "_8PeVA3Ddru8"
      },
      "outputs": [],
      "source": [
        "npy = data.to_numpy()"
      ]
    },
    {
      "cell_type": "code",
      "execution_count": null,
      "metadata": {
        "id": "Zs69ksVpIsuF"
      },
      "outputs": [],
      "source": [
        "data = data[['High level category(icd-9)','Age Category','gender','discharge_location','insurance','marital_status','ethnicity','High level category(diagnosis)','los_category','Mental_status','Intentional']]"
      ]
    },
    {
      "cell_type": "markdown",
      "metadata": {
        "id": "YNf_8yFspX0s"
      },
      "source": [
        "# Label encoding (Replacing strings with numeric values)"
      ]
    },
    {
      "cell_type": "code",
      "execution_count": null,
      "metadata": {
        "colab": {
          "base_uri": "https://localhost:8080/"
        },
        "id": "9WXcyQDNRc4x",
        "outputId": "06790ca6-cf0c-4d58-e294-25e04070f0bb"
      },
      "outputs": [
        {
          "data": {
            "text/plain": [
              "{0.0: 0, 1.0: 1, 2.0: 2, 3.0: 3, 4.0: 4, 5.0: 5, 6.0: 6, 7.0: 7, nan: 8}"
            ]
          },
          "execution_count": 18,
          "metadata": {},
          "output_type": "execute_result"
        }
      ],
      "source": [
        "ordinal_label = {k: i for i, k in enumerate(data['High level category(icd-9)'].unique(), 0)}\n",
        "ordinal_label"
      ]
    },
    {
      "cell_type": "code",
      "execution_count": null,
      "metadata": {
        "id": "1G2z49OUjT5-"
      },
      "outputs": [],
      "source": [
        "ordinal_label = {'Diseases of blood and circulatory system': 7,\n",
        " 'Diseases of digestive system': 4,\n",
        " 'Diseases of genitourinary system': 1,\n",
        " 'Diseases of nervous system and Mental Disorder': 3,\n",
        " 'Diseases of respiratory system': 5,\n",
        " 'Endocrine, Metabolic, Immunity Disorder and Sepsis': 6,\n",
        " 'Poisoning and Injury': 0,\n",
        " 'Skin, Subcutaneous tissue and Musculoskeletal diseases ': 2}\n",
        "\n",
        "data['High level category(icd-9)'] = data['High level category(icd-9)'].map(ordinal_label)"
      ]
    },
    {
      "cell_type": "code",
      "execution_count": null,
      "metadata": {
        "colab": {
          "base_uri": "https://localhost:8080/"
        },
        "id": "H5RIIPvbJ7uv",
        "outputId": "15fc4cd1-d973-4531-eeca-cbc5b3bdb535"
      },
      "outputs": [
        {
          "data": {
            "text/plain": [
              "{0.0: 0, 1.0: 1, 2.0: 2, nan: 3}"
            ]
          },
          "execution_count": 20,
          "metadata": {},
          "output_type": "execute_result"
        }
      ],
      "source": [
        "ordinal_label = {k: i for i, k in enumerate(data['Age Category'].unique(), 0)}\n",
        "ordinal_label"
      ]
    },
    {
      "cell_type": "code",
      "execution_count": null,
      "metadata": {
        "id": "Ehjp8Z9wlTC3"
      },
      "outputs": [],
      "source": [
        "ordinal_label = {'Middle': 0, 'Senior': 2, 'Young': 1}\n",
        "\n",
        "data['Age Category'] = data['Age Category'].map(ordinal_label)"
      ]
    },
    {
      "cell_type": "code",
      "execution_count": null,
      "metadata": {
        "colab": {
          "base_uri": "https://localhost:8080/"
        },
        "id": "t2hp3QrBLukk",
        "outputId": "086fb489-5323-4d9e-a67b-4c0630435fa1"
      },
      "outputs": [
        {
          "data": {
            "text/plain": [
              "{nan: 0}"
            ]
          },
          "execution_count": 51,
          "metadata": {},
          "output_type": "execute_result"
        }
      ],
      "source": [
        "ordinal_label = {k: i for i, k in enumerate(data['gender'].unique(), 0)}\n",
        "ordinal_label\n"
      ]
    },
    {
      "cell_type": "code",
      "execution_count": null,
      "metadata": {
        "id": "2_YwHV9PlW8X"
      },
      "outputs": [],
      "source": [
        "ordinal_label = {'F': 0, 'M': 1}\n",
        "\n",
        "data['gender'] = data['gender'].map(ordinal_label)"
      ]
    },
    {
      "cell_type": "code",
      "execution_count": null,
      "metadata": {
        "colab": {
          "base_uri": "https://localhost:8080/"
        },
        "id": "E4kp9A6eLupm",
        "outputId": "8a16a74c-7358-408e-e7b6-b44496a42d5d"
      },
      "outputs": [
        {
          "data": {
            "text/plain": [
              "{'DEAD/EXPIRED': 7,\n",
              " 'DISC-TRAN CANCER/CHLDRN H': 1,\n",
              " 'DISC-TRAN TO FEDERAL HC': 10,\n",
              " 'DISCH-TRAN TO PSYCH HOSP': 0,\n",
              " 'HOME': 2,\n",
              " 'HOME HEALTH CARE': 3,\n",
              " 'HOSPICE-HOME': 8,\n",
              " 'HOSPICE-MEDICAL FACILITY': 14,\n",
              " 'LEFT AGAINST MEDICAL ADVI': 11,\n",
              " 'LONG TERM CARE HOSPITAL': 9,\n",
              " 'OTHER FACILITY': 12,\n",
              " 'REHAB/DISTINCT PART HOSP': 5,\n",
              " 'SHORT TERM HOSPITAL': 4,\n",
              " 'SNF': 6,\n",
              " nan: 13}"
            ]
          },
          "execution_count": 24,
          "metadata": {},
          "output_type": "execute_result"
        }
      ],
      "source": [
        "ordinal_label = {k: i for i, k in enumerate(data['discharge_location'].unique(), 0)}\n",
        "ordinal_label\n"
      ]
    },
    {
      "cell_type": "code",
      "execution_count": null,
      "metadata": {
        "id": "bvjQsA59lXuL"
      },
      "outputs": [],
      "source": [
        "ordinal_label = {'DEAD/EXPIRED': 7,\n",
        " 'DISC-TRAN CANCER/CHLDRN H': 1,\n",
        " 'DISC-TRAN TO FEDERAL HC': 10,\n",
        " 'DISCH-TRAN TO PSYCH HOSP': 0,\n",
        " 'HOME': 2,\n",
        " 'HOME HEALTH CARE': 3,\n",
        " 'HOSPICE-HOME': 8,\n",
        " 'HOSPICE-MEDICAL FACILITY': 14,\n",
        " 'LEFT AGAINST MEDICAL ADVI': 11,\n",
        " 'LONG TERM CARE HOSPITAL': 9,\n",
        " 'OTHER FACILITY': 12,\n",
        " 'REHAB/DISTINCT PART HOSP': 5,\n",
        " 'SHORT TERM HOSPITAL': 4,\n",
        " 'SNF': 6}\n",
        "\n",
        "data['discharge_location'] = data['discharge_location'].map(ordinal_label)"
      ]
    },
    {
      "cell_type": "code",
      "execution_count": null,
      "metadata": {
        "colab": {
          "base_uri": "https://localhost:8080/"
        },
        "id": "L5y6-p4BLuua",
        "outputId": "f40b951e-b7b7-46bc-8143-5d16a154fc7c"
      },
      "outputs": [
        {
          "data": {
            "text/plain": [
              "{'Government': 3,\n",
              " 'Medicaid': 0,\n",
              " 'Medicare': 1,\n",
              " 'Private': 2,\n",
              " 'Self Pay': 4,\n",
              " nan: 5}"
            ]
          },
          "execution_count": 26,
          "metadata": {},
          "output_type": "execute_result"
        }
      ],
      "source": [
        "ordinal_label = {k: i for i, k in enumerate(data['insurance'].unique(), 0)}\n",
        "ordinal_label\n"
      ]
    },
    {
      "cell_type": "code",
      "execution_count": null,
      "metadata": {
        "id": "RedzItWNlYgN"
      },
      "outputs": [],
      "source": [
        "ordinal_label = {'Government': 3,\n",
        " 'Medicaid': 0,\n",
        " 'Medicare': 1,\n",
        " 'Private': 2,\n",
        " 'Self Pay': 4}\n",
        "\n",
        "data['insurance'] = data['insurance'].map(ordinal_label)"
      ]
    },
    {
      "cell_type": "code",
      "execution_count": null,
      "metadata": {
        "colab": {
          "base_uri": "https://localhost:8080/"
        },
        "id": "HmXmcW2ALuyR",
        "outputId": "be6b6949-e70d-46ef-9eb0-0f407cc600ae"
      },
      "outputs": [
        {
          "data": {
            "text/plain": [
              "{'DIVORCED': 4,\n",
              " 'MARRIED': 3,\n",
              " 'SEPARATED': 1,\n",
              " 'SINGLE': 2,\n",
              " 'UNKNOWN (DEFAULT)': 6,\n",
              " 'WIDOWED': 0,\n",
              " nan: 5}"
            ]
          },
          "execution_count": 28,
          "metadata": {},
          "output_type": "execute_result"
        }
      ],
      "source": [
        "ordinal_label = {k: i for i, k in enumerate(data['marital_status'].unique(), 0)}\n",
        "ordinal_label\n"
      ]
    },
    {
      "cell_type": "code",
      "execution_count": null,
      "metadata": {
        "id": "5eC586ZRlZeH"
      },
      "outputs": [],
      "source": [
        "ordinal_label = {'DIVORCED': 4,\n",
        " 'MARRIED': 3,\n",
        " 'SEPARATED': 1,\n",
        " 'SINGLE': 2,\n",
        " 'UNKNOWN (DEFAULT)': 6,\n",
        " 'WIDOWED': 0}\n",
        "\n",
        "data['marital_status'] = data['marital_status'].map(ordinal_label)"
      ]
    },
    {
      "cell_type": "code",
      "execution_count": null,
      "metadata": {
        "colab": {
          "base_uri": "https://localhost:8080/"
        },
        "id": "FYXhxTrzLu2j",
        "outputId": "8a4e9b2c-556e-44e8-dd44-973497804eaa"
      },
      "outputs": [
        {
          "data": {
            "text/plain": [
              "{'ASIAN': 6,\n",
              " 'BLACK/AFRICAN AMERICAN': 1,\n",
              " 'BLACK/CAPE VERDEAN': 11,\n",
              " 'HISPANIC OR LATINO': 5,\n",
              " 'HISPANIC/LATINO - DOMINICAN': 12,\n",
              " 'HISPANIC/LATINO - PUERTO RICAN': 7,\n",
              " 'MULTI RACE ETHNICITY': 15,\n",
              " 'NATIVE HAWAIIAN OR OTHER PACIFIC ISLANDER': 9,\n",
              " 'OTHER': 4,\n",
              " 'PATIENT DECLINED TO ANSWER': 2,\n",
              " 'PORTUGUESE': 16,\n",
              " 'UNABLE TO OBTAIN': 10,\n",
              " 'UNKNOWN/NOT SPECIFIED': 3,\n",
              " 'WHITE': 0,\n",
              " 'WHITE - BRAZILIAN': 14,\n",
              " 'WHITE - RUSSIAN': 8,\n",
              " nan: 13}"
            ]
          },
          "execution_count": 30,
          "metadata": {},
          "output_type": "execute_result"
        }
      ],
      "source": [
        "ordinal_label = {k: i for i, k in enumerate(data['ethnicity'].unique(), 0)}\n",
        "ordinal_label\n"
      ]
    },
    {
      "cell_type": "code",
      "execution_count": null,
      "metadata": {
        "id": "gr309IMklapk"
      },
      "outputs": [],
      "source": [
        "ordinal_label = {'ASIAN': 6,\n",
        " 'BLACK/AFRICAN AMERICAN': 1,\n",
        " 'BLACK/CAPE VERDEAN': 11,\n",
        " 'HISPANIC OR LATINO': 5,\n",
        " 'HISPANIC/LATINO - DOMINICAN': 12,\n",
        " 'HISPANIC/LATINO - PUERTO RICAN': 7,\n",
        " 'MULTI RACE ETHNICITY': 15,\n",
        " 'NATIVE HAWAIIAN OR OTHER PACIFIC ISLANDER': 9,\n",
        " 'OTHER': 4,\n",
        " 'PATIENT DECLINED TO ANSWER': 2,\n",
        " 'PORTUGUESE': 16,\n",
        " 'UNABLE TO OBTAIN': 10,\n",
        " 'UNKNOWN/NOT SPECIFIED': 3,\n",
        " 'WHITE': 0,\n",
        " 'WHITE - BRAZILIAN': 14,\n",
        " 'WHITE - RUSSIAN': 8}\n",
        "\n",
        "data['ethnicity'] = data['ethnicity'].map(ordinal_label)"
      ]
    },
    {
      "cell_type": "code",
      "execution_count": null,
      "metadata": {
        "colab": {
          "base_uri": "https://localhost:8080/"
        },
        "id": "TDLiiTQ2Lu6X",
        "outputId": "cf1b6b3e-955a-4b3e-ccfc-d49454cf1e7b"
      },
      "outputs": [
        {
          "data": {
            "text/plain": [
              "{'Diseases of blood and circulatory system': 2,\n",
              " 'Diseases of digestive system': 4,\n",
              " 'Diseases of genitourinary system': 6,\n",
              " 'Diseases of nervous system and Mental Disorder': 1,\n",
              " 'Diseases of respiratory system': 5,\n",
              " 'Endocrine, Metabolic, Immunity Disorder and Sepsis': 3,\n",
              " 'Poisoning and Injury': 0,\n",
              " 'Skin, Subcutaneous tissue and Musculoskeletal diseases ': 8,\n",
              " nan: 7}"
            ]
          },
          "execution_count": 32,
          "metadata": {},
          "output_type": "execute_result"
        }
      ],
      "source": [
        "ordinal_label = {k: i for i, k in enumerate(data['High level category(diagnosis)'].unique(), 0)}\n",
        "ordinal_label\n"
      ]
    },
    {
      "cell_type": "code",
      "execution_count": null,
      "metadata": {
        "id": "SEtcS63slbhe"
      },
      "outputs": [],
      "source": [
        "ordinal_label = {'Diseases of blood and circulatory system': 2,\n",
        " 'Diseases of digestive system': 4,\n",
        " 'Diseases of genitourinary system': 6,\n",
        " 'Diseases of nervous system and Mental Disorder': 1,\n",
        " 'Diseases of respiratory system': 5,\n",
        " 'Endocrine, Metabolic, Immunity Disorder and Sepsis': 3,\n",
        " 'Poisoning and Injury': 0,\n",
        " 'Skin, Subcutaneous tissue and Musculoskeletal diseases ': 8}\n",
        "\n",
        "data['High level category(diagnosis)'] = data['High level category(diagnosis)'].map(ordinal_label)"
      ]
    },
    {
      "cell_type": "code",
      "execution_count": null,
      "metadata": {
        "colab": {
          "base_uri": "https://localhost:8080/"
        },
        "id": "qwOLzKmJLu-u",
        "outputId": "d41cd759-a532-4b98-abca-114ef7bb5f99"
      },
      "outputs": [
        {
          "data": {
            "text/plain": [
              "{'Large': 2, 'Midium': 1, 'Short': 0, nan: 3}"
            ]
          },
          "execution_count": 34,
          "metadata": {},
          "output_type": "execute_result"
        }
      ],
      "source": [
        "ordinal_label = {k: i for i, k in enumerate(data['los_category'].unique(), 0)}\n",
        "ordinal_label\n"
      ]
    },
    {
      "cell_type": "code",
      "execution_count": null,
      "metadata": {
        "id": "bIzSVh61lcfW"
      },
      "outputs": [],
      "source": [
        "ordinal_label = {'Large': 2, 'Midium': 1, 'Short': 0}\n",
        "\n",
        "data['los_category'] = data['los_category'].map(ordinal_label)"
      ]
    },
    {
      "cell_type": "code",
      "execution_count": null,
      "metadata": {
        "colab": {
          "base_uri": "https://localhost:8080/"
        },
        "id": "ZNtc-MMTLvDd",
        "outputId": "51d5bbfc-1820-42d8-b51e-0eab6cffa7ee"
      },
      "outputs": [
        {
          "data": {
            "text/plain": [
              "{'No': 0, 'Yes': 1, nan: 2}"
            ]
          },
          "execution_count": 36,
          "metadata": {},
          "output_type": "execute_result"
        }
      ],
      "source": [
        "ordinal_label = {k: i for i, k in enumerate(data['Mental_status'].unique(), 0)}\n",
        "ordinal_label\n"
      ]
    },
    {
      "cell_type": "code",
      "execution_count": null,
      "metadata": {
        "id": "FXjHWBPDldZN"
      },
      "outputs": [],
      "source": [
        "ordinal_label = {'No': 0, 'Yes': 1}\n",
        "\n",
        "data['Mental_status'] = data['Mental_status'].map(ordinal_label)"
      ]
    },
    {
      "cell_type": "code",
      "execution_count": null,
      "metadata": {
        "colab": {
          "base_uri": "https://localhost:8080/"
        },
        "id": "D2yFHn4aLvIX",
        "outputId": "7a4e99f1-00f5-46fd-e077-9e6b9f300dde"
      },
      "outputs": [
        {
          "data": {
            "text/plain": [
              "{'No': 0, 'Yes': 1, nan: 2}"
            ]
          },
          "execution_count": 38,
          "metadata": {},
          "output_type": "execute_result"
        }
      ],
      "source": [
        "ordinal_label = {k: i for i, k in enumerate(data['Intentional'].unique(), 0)}\n",
        "ordinal_label"
      ]
    },
    {
      "cell_type": "code",
      "execution_count": null,
      "metadata": {
        "id": "CpLdL6cpkddM"
      },
      "outputs": [],
      "source": [
        "ordinal_label = {'No': 0, 'Yes': 1}\n",
        "\n",
        "data['Intentional'] = data['Intentional'].map(ordinal_label)"
      ]
    },
    {
      "cell_type": "code",
      "execution_count": null,
      "metadata": {},
      "outputs": [],
      "source": [
        "data.to_csv('pre-processed_with_Nan.csv')"
      ]
    }
  ],
  "metadata": {
    "colab": {
      "collapsed_sections": [],
      "name": "feature selection and data pre-processing.ipynb",
      "provenance": []
    },
    "kernelspec": {
      "display_name": "Python 3",
      "name": "python3"
    },
    "language_info": {
      "name": "python"
    }
  },
  "nbformat": 4,
  "nbformat_minor": 0
}
